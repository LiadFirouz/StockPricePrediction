{
 "cells": [
  {
   "cell_type": "code",
   "execution_count": null,
   "id": "84ecb1b8",
   "metadata": {},
   "outputs": [],
   "source": [
    "import yfinance as yf\n",
    "import pandas as pd \n",
    "import matplotlib.pyplot as plt\n",
    "\n",
    "#loading the NVIDIA stock data\n",
    "ticker = yf.Ticker(\"NVDA\")\n",
    "data = ticker.history(period=\"1y\")\n",
    "\n",
    "# Display the first few rows of the data\n",
    "data.head()\n",
    "\n",
    "# Plotting the closing price of NVIDIA stock\n",
    "data['Close'].plot(figsize=(12,6), title='NVIDIA Stock Price (at close)')\n",
    "plt.title(\"NVIDIA Stock Closing Prices - Last 5 Years\")\n",
    "plt.xlabel(\"Date\")\n",
    "plt.ylabel(\"Price ($)\")\n",
    "plt.grid()\n",
    "plt.legend(['Close Price'])\n",
    "plt.show()\n",
    "\n",
    "# Displaying the summary statistics of the data\n",
    "data.describe()\n",
    "\n",
    "print(data.isnull().sum())  # Checking for missing values in the dataset\n",
    "data.dropna(inplace=True)  # Dropping any rows with missing values\n",
    "\n",
    "data['Daily Return'] = data['Close'].pct_change()  # Daily returns\n",
    "\n",
    "data['MA7'] = data['Close'].rolling(window=7).mean()  # 7-day moving average\n",
    "data['MA21'] = data['Close'].rolling(window=21).mean()  # 21-day moving average\n",
    "\n",
    "data['price_diff'] = data['Close'] - data['Open']  # Daily price difference if the stock closed higher or lower\n",
    "data['close_to_open'] = data['Close'] / data['Open']  # Close to Open ratio     \n",
    "data['volume_change'] = data['Volume'].pct_change()  # Daily volume change\n",
    "\n",
    "data.dropna(inplace=True)  # Dropping any rows with NaN values after calculations\n",
    "\n",
    "data['target'] = data['Close'].shift(-1)  # Target variable for prediction\n",
    "data.dropna(inplace=True)  # Dropping any rows with NaN values after shifting\n",
    "\n",
    "features = ['Open', 'High', 'Low', 'Close', 'Volume', 'Daily Return', 'MA7', 'MA21',\n",
    "            'price_diff', 'close_to_open', 'volume_change']\n",
    "x = data[features]  # Features for the model\n",
    "y = data['target']  # Target variable\n",
    "\n",
    "print(\"Shape of X:\", X.shape)\n",
    "print(\"Shape of y:\", y.shape)\n",
    "print(X.head())\n",
    "print(y.head())\n",
    "# Splitting the data into training and testing sets"
   ]
  }
 ],
 "metadata": {
  "kernelspec": {
   "display_name": "stock-ai",
   "language": "python",
   "name": "python3"
  },
  "language_info": {
   "name": "python",
   "version": "3.11.13"
  }
 },
 "nbformat": 4,
 "nbformat_minor": 5
}
