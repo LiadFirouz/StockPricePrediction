{
 "cells": [
  {
   "cell_type": "code",
   "execution_count": null,
   "id": "84ecb1b8",
   "metadata": {},
   "outputs": [],
   "source": [
    "# ===============================\n",
    "# import libraries\n",
    "# ===============================\n",
    "import yfinance as yf\n",
    "import pandas as pd\n",
    "import numpy as np\n",
    "import matplotlib.pyplot as plt\n",
    "from sklearn.model_selection import train_test_split\n",
    "from sklearn.linear_model import LinearRegression\n",
    "from sklearn.metrics import mean_squared_error, mean_absolute_error\n"
   ]
  },
  {
   "cell_type": "code",
   "execution_count": null,
   "id": "cbec59ef",
   "metadata": {},
   "outputs": [],
   "source": [
    "# ===============================\n",
    "# loading NVIDIA stock data\n",
    "# ===============================\n",
    "ticker = yf.Ticker(\"NVDA\")\n",
    "data = ticker.history(period=\"1y\")  # loading last 1 year of data\n"
   ]
  },
  {
   "cell_type": "code",
   "execution_count": null,
   "id": "debc683b",
   "metadata": {},
   "outputs": [],
   "source": [
    "# ===============================\n",
    "# Plotting closing price\n",
    "# ===============================\n",
    "plt.figure(figsize=(12, 6))\n",
    "data['Close'].plot(title='NVIDIA Stock Closing Prices - Last 1 Year')\n",
    "plt.xlabel(\"Date\")\n",
    "plt.ylabel(\"Price ($)\")\n",
    "plt.grid(True)\n",
    "plt.legend(['Close Price'])\n",
    "plt.show()\n"
   ]
  },
  {
   "cell_type": "code",
   "execution_count": null,
   "id": "bf5ccc23",
   "metadata": {},
   "outputs": [],
   "source": [
    "# ===============================\n",
    "# cleaning the data and feature engineering\n",
    "# ===============================\n",
    "print(\"Missing values before cleaning:\\n\", data.isnull().sum())\n",
    "data.dropna(inplace=True)\n",
    "\n",
    "# feature engineering\n",
    "data['Daily Return'] = data['Close'].pct_change()\n",
    "data['MA7'] = data['Close'].rolling(window=7).mean()\n",
    "data['MA21'] = data['Close'].rolling(window=21).mean()\n",
    "data['price_diff'] = data['Close'] - data['Open']\n",
    "data['close_to_open'] = data['Close'] / data['Open']\n",
    "data['volume_change'] = data['Volume'].pct_change()\n",
    "\n",
    "# Remove rows with NaN values after feature engineering\n",
    "data.dropna(inplace=True)\n"
   ]
  },
  {
   "cell_type": "code",
   "execution_count": null,
   "id": "2bfeec3f",
   "metadata": {},
   "outputs": [],
   "source": [
    "# ===============================\n",
    "# preparing features and target variable for the model\n",
    "# ===============================\n",
    "data['target'] = data['Close'].shift(-1)  #next day's closing price as target\n",
    "data.dropna(inplace=True)\n",
    "\n",
    "features = ['Open', 'High', 'Low', 'Close', 'Volume', 'Daily Return',\n",
    "            'MA7', 'MA21', 'price_diff', 'close_to_open', 'volume_change']\n",
    "\n",
    "X = data[features]\n",
    "y = data['target']\n",
    "\n",
    "print(\"Shape of X:\", X.shape)\n",
    "print(\"Shape of y:\", y.shape)\n",
    "print(X.head())\n",
    "print(y.head())\n"
   ]
  },
  {
   "cell_type": "code",
   "execution_count": null,
   "id": "b1c75387",
   "metadata": {},
   "outputs": [],
   "source": [
    "# ===============================\n",
    "# train-test split\n",
    "# ===============================\n",
    "X_train, X_test, y_train, y_test = train_test_split(X, y, test_size=0.2, shuffle=False)\n",
    "\n",
    "# ===============================\n",
    "# linear regression model\n",
    "# ===============================\n",
    "model = LinearRegression()\n",
    "model.fit(X_train, y_train)\n"
   ]
  },
  {
   "cell_type": "code",
   "execution_count": null,
   "id": "d2a73ea0",
   "metadata": {},
   "outputs": [],
   "source": [
    "# ===============================\n",
    "# predicting and evaluating the model\n",
    "# ===============================\n",
    "y_pred = model.predict(X_test)\n",
    "mae = mean_absolute_error(y_test, y_pred)\n",
    "rmse = np.sqrt(mean_squared_error(y_test, y_pred))\n",
    "\n",
    "print(f\"📏 Mean Absolute Error (MAE): {mae}\")\n",
    "print(f\"📏 Root Mean Squared Error (RMSE): {rmse}\")"
   ]
  },
  {
   "cell_type": "code",
   "execution_count": null,
   "id": "e8bd9cbe",
   "metadata": {},
   "outputs": [],
   "source": [
    "# ===============================\n",
    "# Visualization: actual vs predicted\n",
    "# ===============================\n",
    "plt.figure(figsize=(12, 6))\n",
    "plt.plot(y_test.index, y_test, label='Actual Prices', color='blue')\n",
    "plt.plot(y_test.index, y_pred, label='Predicted Prices', color='red')\n",
    "plt.title('Linear Regression: Actual vs Predicted Stock Price')\n",
    "plt.xlabel('Date')\n",
    "plt.ylabel('Price ($)')\n",
    "plt.legend()\n",
    "plt.grid(True)\n",
    "plt.show()\n"
   ]
  },
  {
   "cell_type": "code",
   "execution_count": null,
   "id": "acf97353",
   "metadata": {},
   "outputs": [],
   "source": [
    "# ===============================\n",
    "# saving the model\n",
    "# ===============================\n",
    "# import joblib\n",
    "# joblib.dump(model, 'nvda_stock_model.pkl')"
   ]
  }
 ],
 "metadata": {
  "kernelspec": {
   "display_name": "stock-ai",
   "language": "python",
   "name": "python3"
  },
  "language_info": {
   "codemirror_mode": {
    "name": "ipython",
    "version": 3
   },
   "file_extension": ".py",
   "mimetype": "text/x-python",
   "name": "python",
   "nbconvert_exporter": "python",
   "pygments_lexer": "ipython3",
   "version": "3.11.13"
  }
 },
 "nbformat": 4,
 "nbformat_minor": 5
}
