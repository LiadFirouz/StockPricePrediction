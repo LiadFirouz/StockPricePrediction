{
 "cells": [
  {
   "cell_type": "code",
   "execution_count": null,
   "id": "84ecb1b8",
   "metadata": {},
   "outputs": [],
   "source": [
    "import yfinance as yf\n",
    "import pandas as pd \n",
    "import matplotlib.pyplot as plt\n",
    "\n",
    "#loading the NVIDIA stock data\n",
    "ticker = yf.Ticker(\"NVDA\")\n",
    "data = ticker.history(period=\"1y\")\n",
    "\n",
    "# Display the first few rows of the data\n",
    "data.head()\n",
    "\n",
    "# Plotting the closing price of NVIDIA stock\n",
    "data['Close'].plot(figsize=(12,6), title='NVIDIA Stock Price (at close)')\n",
    "plt.title(\"NVIDIA Stock Closing Prices - Last 5 Years\")\n",
    "plt.xlabel(\"Date\")\n",
    "plt.ylabel(\"Price ($)\")\n",
    "plt.grid()\n",
    "plt.legend(['Close Price'])\n",
    "plt.show()\n",
    "\n",
    "# Displaying the summary statistics of the data\n",
    "data.describe()\n"
   ]
  }
 ],
 "metadata": {
  "kernelspec": {
   "display_name": "stock-ai",
   "language": "python",
   "name": "python3"
  },
  "language_info": {
   "name": "python",
   "version": "3.11.13"
  }
 },
 "nbformat": 4,
 "nbformat_minor": 5
}
